{
 "cells": [
  {
   "cell_type": "code",
   "execution_count": 5,
   "metadata": {},
   "outputs": [
    {
     "name": "stdout",
     "output_type": "stream",
     "text": [
      "Yes\n"
     ]
    }
   ],
   "source": [
    "# cook your dish here\n",
    "\n",
    "f = int(input())\n",
    "\n",
    "for i in range(f):\n",
    "    l = list(map(int,input().split(\" \")))\n",
    "    if l[1]+l[3] > l[0]+l[2]:\n",
    "        print(\"Yes\")\n",
    "    else:\n",
    "        print(\"No\")\n",
    "    \n"
   ]
  },
  {
   "cell_type": "code",
   "execution_count": null,
   "metadata": {},
   "outputs": [],
   "source": []
  },
  {
   "cell_type": "code",
   "execution_count": 21,
   "metadata": {},
   "outputs": [
    {
     "name": "stdout",
     "output_type": "stream",
     "text": [
      "00011\n"
     ]
    }
   ],
   "source": [
    "# cook your dish here\n",
    "\n",
    "f = int(input())\n",
    "\n",
    "for i in range(f):\n",
    "    s = int(input())\n",
    "    l = input()\n",
    "    i=0\n",
    "    while (i < len(l)-2):\n",
    "        if l[i] == \"1\":\n",
    "            a = l[:i]\n",
    "            a=a+\"100\"\n",
    "            a = a+l[i+3:]\n",
    "            \n",
    "            if int(l) > int(a):\n",
    "                print(a)\n",
    "                break\n",
    "        i +=1\n",
    "    else:\n",
    "        print(l)\n",
    "    \n"
   ]
  },
  {
   "cell_type": "code",
   "execution_count": 16,
   "metadata": {},
   "outputs": [
    {
     "name": "stdout",
     "output_type": "stream",
     "text": [
      "11\n"
     ]
    }
   ],
   "source": [
    "l= \"1100\"\n",
    "print(l[:2])"
   ]
  },
  {
   "cell_type": "code",
   "execution_count": null,
   "metadata": {},
   "outputs": [],
   "source": [
    "# Function to rearrange the sequence to make it concussive\n",
    "def rearrange_concussive(N, A):\n",
    "    # Sort the sequence\n",
    "    A.sort()\n",
    "    \n",
    "    # Initialize an array to store the rearranged sequence\n",
    "    result = [0] * N\n",
    "    \n",
    "    # Rearrange the sequence according to the concussive conditions\n",
    "    for i in range(1, N, 2):\n",
    "        result[i] = A.pop()\n",
    "    for i in range(0, N, 2):\n",
    "        result[i] = A.pop()\n",
    "    \n",
    "    # Check if the rearranged sequence is concussive\n",
    "    for i in range(1, N - 1):\n",
    "        if not ((result[i - 1] < result[i] > result[i + 1]) or (result[i - 1] > result[i] < result[i + 1])):\n",
    "            return [-1]  # Not concussive\n",
    "    \n",
    "    return result\n",
    "\n",
    "# Read the number of test cases\n",
    "T = int(input())\n",
    "\n",
    "# Process each test case\n",
    "for _ in range(T):\n",
    "    N = int(input())\n",
    "    A = list(map(int, input().split()))\n",
    "    \n",
    "    rearranged_seq = rearrange_concussive(N, A)\n",
    "    \n",
    "    if rearranged_seq[0] == -1:\n",
    "        print(-1)\n",
    "    else:\n",
    "        print(\" \".join(map(str, rearranged_seq)))"
   ]
  },
  {
   "cell_type": "code",
   "execution_count": null,
   "metadata": {},
   "outputs": [],
   "source": [
    "a = np"
   ]
  }
 ],
 "metadata": {
  "kernelspec": {
   "display_name": "py3-TF2.0",
   "language": "python",
   "name": "python3"
  },
  "language_info": {
   "codemirror_mode": {
    "name": "ipython",
    "version": 3
   },
   "file_extension": ".py",
   "mimetype": "text/x-python",
   "name": "python",
   "nbconvert_exporter": "python",
   "pygments_lexer": "ipython3",
   "version": "3.9.15"
  },
  "orig_nbformat": 4
 },
 "nbformat": 4,
 "nbformat_minor": 2
}
